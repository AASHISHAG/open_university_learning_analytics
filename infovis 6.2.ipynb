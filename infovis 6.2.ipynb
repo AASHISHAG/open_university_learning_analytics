{
 "cells": [
  {
   "cell_type": "code",
   "execution_count": 1,
   "metadata": {},
   "outputs": [],
   "source": [
    "import pandas as pd\n",
    "import matplotlib.pyplot as plt\n",
    "from functools import reduce\n",
    "\n",
    "import plotly.express as px\n",
    "import numpy as np\n",
    "import plotly.graph_objects as go\n",
    "\n",
    "import warnings\n",
    "warnings.filterwarnings('ignore')"
   ]
  },
  {
   "cell_type": "code",
   "execution_count": 2,
   "metadata": {
    "scrolled": true
   },
   "outputs": [],
   "source": [
    "# read the data\n",
    "assessments = pd.read_csv('./static/datasets/assessments.csv')\n",
    "courses = pd.read_csv('./static/datasets/courses.csv')\n",
    "studentAssessment = pd.read_csv('./static/datasets/studentAssessment.csv')\n",
    "studentInfo = pd.read_csv('./static/datasets/studentInfo.csv')\n",
    "studentRegistration = pd.read_csv('./static/datasets/studentRegistration.csv')\n",
    "vle = pd.read_csv('./static/datasets/vle.csv')"
   ]
  },
  {
   "cell_type": "code",
   "execution_count": 3,
   "metadata": {},
   "outputs": [],
   "source": [
    "# column identification\n",
    "set1 = list(assessments.columns.values)\n",
    "set2 = list(courses.columns.values)\n",
    "set3 = list(studentAssessment.columns.values)\n",
    "set4 = list(studentInfo.columns.values)\n",
    "set5 = list(studentRegistration.columns.values)\n",
    "set6 = list(vle.columns.values)"
   ]
  },
  {
   "cell_type": "code",
   "execution_count": 4,
   "metadata": {},
   "outputs": [],
   "source": [
    "all_columns = [set1, set2, set3, set4, set5, set6]\n",
    "columns_count = [assessments.shape, courses.shape, studentAssessment.shape,\n",
    "                 studentInfo.shape, studentRegistration.shape, vle.shape]\n",
    "columns_header = ['assessments', 'courses', 'studentAssessment',\n",
    "                  'studentInfo', 'studentRegistration', 'vle']"
   ]
  },
  {
   "cell_type": "code",
   "execution_count": 5,
   "metadata": {},
   "outputs": [
    {
     "data": {
      "text/html": [
       "<div>\n",
       "<style scoped>\n",
       "    .dataframe tbody tr th:only-of-type {\n",
       "        vertical-align: middle;\n",
       "    }\n",
       "\n",
       "    .dataframe tbody tr th {\n",
       "        vertical-align: top;\n",
       "    }\n",
       "\n",
       "    .dataframe thead th {\n",
       "        text-align: right;\n",
       "    }\n",
       "</style>\n",
       "<table border=\"1\" class=\"dataframe\">\n",
       "  <thead>\n",
       "    <tr style=\"text-align: right;\">\n",
       "      <th></th>\n",
       "      <th>Table Name</th>\n",
       "      <th>Rows, Columns</th>\n",
       "      <th>Column Names</th>\n",
       "    </tr>\n",
       "  </thead>\n",
       "  <tbody>\n",
       "    <tr>\n",
       "      <th>0</th>\n",
       "      <td>assessments</td>\n",
       "      <td>(206, 6)</td>\n",
       "      <td>[code_module, code_presentation, id_assessment, assessment_type, date, weight]</td>\n",
       "    </tr>\n",
       "    <tr>\n",
       "      <th>1</th>\n",
       "      <td>courses</td>\n",
       "      <td>(22, 3)</td>\n",
       "      <td>[code_module, code_presentation, module_presentation_length]</td>\n",
       "    </tr>\n",
       "    <tr>\n",
       "      <th>2</th>\n",
       "      <td>studentAssessment</td>\n",
       "      <td>(173912, 5)</td>\n",
       "      <td>[id_assessment, id_student, date_submitted, is_banked, score]</td>\n",
       "    </tr>\n",
       "    <tr>\n",
       "      <th>3</th>\n",
       "      <td>studentInfo</td>\n",
       "      <td>(32593, 12)</td>\n",
       "      <td>[code_module, code_presentation, id_student, gender, region, highest_education, imd_band, age_band, num_of_prev_attempts, studied_credits, disability, final_result]</td>\n",
       "    </tr>\n",
       "    <tr>\n",
       "      <th>4</th>\n",
       "      <td>studentRegistration</td>\n",
       "      <td>(32593, 5)</td>\n",
       "      <td>[code_module, code_presentation, id_student, date_registration, date_unregistration]</td>\n",
       "    </tr>\n",
       "    <tr>\n",
       "      <th>5</th>\n",
       "      <td>vle</td>\n",
       "      <td>(6364, 6)</td>\n",
       "      <td>[id_site, code_module, code_presentation, activity_type, week_from, week_to]</td>\n",
       "    </tr>\n",
       "  </tbody>\n",
       "</table>\n",
       "</div>"
      ],
      "text/plain": [
       "            Table Name Rows, Columns  \\\n",
       "0          assessments      (206, 6)   \n",
       "1              courses       (22, 3)   \n",
       "2    studentAssessment   (173912, 5)   \n",
       "3          studentInfo   (32593, 12)   \n",
       "4  studentRegistration    (32593, 5)   \n",
       "5                  vle     (6364, 6)   \n",
       "\n",
       "                                                                                                                                                           Column Names  \n",
       "0                                                                                        [code_module, code_presentation, id_assessment, assessment_type, date, weight]  \n",
       "1                                                                                                          [code_module, code_presentation, module_presentation_length]  \n",
       "2                                                                                                         [id_assessment, id_student, date_submitted, is_banked, score]  \n",
       "3  [code_module, code_presentation, id_student, gender, region, highest_education, imd_band, age_band, num_of_prev_attempts, studied_credits, disability, final_result]  \n",
       "4                                                                                  [code_module, code_presentation, id_student, date_registration, date_unregistration]  \n",
       "5                                                                                          [id_site, code_module, code_presentation, activity_type, week_from, week_to]  "
      ]
     },
     "execution_count": 5,
     "metadata": {},
     "output_type": "execute_result"
    }
   ],
   "source": [
    "d = {'Table Name': columns_header, 'Rows, Columns': columns_count, 'Column Names': all_columns}\n",
    "df = pd.set_option('max_colwidth', 200)\n",
    "df = pd.DataFrame(d)\n",
    "df"
   ]
  },
  {
   "cell_type": "code",
   "execution_count": 6,
   "metadata": {},
   "outputs": [],
   "source": [
    "# Cleaning the data\n",
    "# Dropping all the missing values\n",
    "assessments.dropna(inplace=True)\n",
    "courses.dropna(inplace=True)\n",
    "studentAssessment.dropna(inplace=True)\n",
    "studentInfo.dropna(inplace=True)\n",
    "studentRegistration.dropna(inplace=True)\n",
    "vle.dropna(inplace=True)"
   ]
  },
  {
   "cell_type": "code",
   "execution_count": 7,
   "metadata": {},
   "outputs": [
    {
     "data": {
      "text/html": [
       "<div>\n",
       "<style scoped>\n",
       "    .dataframe tbody tr th:only-of-type {\n",
       "        vertical-align: middle;\n",
       "    }\n",
       "\n",
       "    .dataframe tbody tr th {\n",
       "        vertical-align: top;\n",
       "    }\n",
       "\n",
       "    .dataframe thead th {\n",
       "        text-align: right;\n",
       "    }\n",
       "</style>\n",
       "<table border=\"1\" class=\"dataframe\">\n",
       "  <thead>\n",
       "    <tr style=\"text-align: right;\">\n",
       "      <th></th>\n",
       "      <th>Table Name</th>\n",
       "      <th>Rows, Columns</th>\n",
       "      <th>Column Names</th>\n",
       "    </tr>\n",
       "  </thead>\n",
       "  <tbody>\n",
       "    <tr>\n",
       "      <th>0</th>\n",
       "      <td>assessments</td>\n",
       "      <td>(195, 6)</td>\n",
       "      <td>[code_module, code_presentation, id_assessment, assessment_type, date, weight]</td>\n",
       "    </tr>\n",
       "    <tr>\n",
       "      <th>1</th>\n",
       "      <td>courses</td>\n",
       "      <td>(22, 3)</td>\n",
       "      <td>[code_module, code_presentation, module_presentation_length]</td>\n",
       "    </tr>\n",
       "    <tr>\n",
       "      <th>2</th>\n",
       "      <td>studentAssessment</td>\n",
       "      <td>(173739, 5)</td>\n",
       "      <td>[id_assessment, id_student, date_submitted, is_banked, score]</td>\n",
       "    </tr>\n",
       "    <tr>\n",
       "      <th>3</th>\n",
       "      <td>studentInfo</td>\n",
       "      <td>(31482, 12)</td>\n",
       "      <td>[code_module, code_presentation, id_student, gender, region, highest_education, imd_band, age_band, num_of_prev_attempts, studied_credits, disability, final_result]</td>\n",
       "    </tr>\n",
       "    <tr>\n",
       "      <th>4</th>\n",
       "      <td>studentRegistration</td>\n",
       "      <td>(10033, 5)</td>\n",
       "      <td>[code_module, code_presentation, id_student, date_registration, date_unregistration]</td>\n",
       "    </tr>\n",
       "    <tr>\n",
       "      <th>5</th>\n",
       "      <td>vle</td>\n",
       "      <td>(1121, 6)</td>\n",
       "      <td>[id_site, code_module, code_presentation, activity_type, week_from, week_to]</td>\n",
       "    </tr>\n",
       "  </tbody>\n",
       "</table>\n",
       "</div>"
      ],
      "text/plain": [
       "            Table Name Rows, Columns  \\\n",
       "0          assessments      (195, 6)   \n",
       "1              courses       (22, 3)   \n",
       "2    studentAssessment   (173739, 5)   \n",
       "3          studentInfo   (31482, 12)   \n",
       "4  studentRegistration    (10033, 5)   \n",
       "5                  vle     (1121, 6)   \n",
       "\n",
       "                                                                                                                                                           Column Names  \n",
       "0                                                                                        [code_module, code_presentation, id_assessment, assessment_type, date, weight]  \n",
       "1                                                                                                          [code_module, code_presentation, module_presentation_length]  \n",
       "2                                                                                                         [id_assessment, id_student, date_submitted, is_banked, score]  \n",
       "3  [code_module, code_presentation, id_student, gender, region, highest_education, imd_band, age_band, num_of_prev_attempts, studied_credits, disability, final_result]  \n",
       "4                                                                                  [code_module, code_presentation, id_student, date_registration, date_unregistration]  \n",
       "5                                                                                          [id_site, code_module, code_presentation, activity_type, week_from, week_to]  "
      ]
     },
     "execution_count": 7,
     "metadata": {},
     "output_type": "execute_result"
    }
   ],
   "source": [
    "columns_count = [assessments.shape, courses.shape, studentAssessment.shape,\n",
    "                 studentInfo.shape, studentRegistration.shape, vle.shape]\n",
    "d = {'Table Name': columns_header, 'Rows, Columns': columns_count,\n",
    "     'Column Names': all_columns}\n",
    "df = pd.set_option('max_colwidth', 200)\n",
    "df = pd.DataFrame(d)\n",
    "df"
   ]
  },
  {
   "cell_type": "code",
   "execution_count": 8,
   "metadata": {},
   "outputs": [],
   "source": [
    "# Exporting the data\n",
    "assessments.to_csv(r'./static/datasets/preprocessed_csv/pre_assessments.csv', index=False)\n",
    "courses.to_csv(r'./static/datasets/preprocessed_csv/pre_courses.csv', index=False)\n",
    "studentAssessment.to_csv(r'./static/datasets/preprocessed_csv/pre_studentAssessment.csv', index=False)\n",
    "studentInfo.to_csv(r'./static/datasets/preprocessed_csv/pre_studentInfo.csv', index=False)\n",
    "studentRegistration.to_csv(r'./static/datasets/preprocessed_csv/pre_studentRegistration.csv', index=False)\n",
    "vle.to_csv(r'./static/datasets/preprocessed_csv/pre_vle.csv', index=False)"
   ]
  },
  {
   "cell_type": "code",
   "execution_count": 9,
   "metadata": {},
   "outputs": [
    {
     "data": {
      "image/png": "[encoded data removed]",
      "text/plain": [
       "<Figure size 432x288 with 1 Axes>"
      ]
     },
     "metadata": {
      "needs_background": "light"
     },
     "output_type": "display_data"
    }
   ],
   "source": [
    "# Results based on Gender\n",
    "\n",
    "gender = studentInfo.groupby(['gender'],as_index = False)\n",
    "gender_count = gender['id_student'].count()\n",
    "result_gender = studentInfo.groupby(['gender', 'final_result'],as_index = False)\n",
    "result_gender_count = result_gender['id_student'].count()\n",
    "\n",
    "merge = pd.merge(gender_count, result_gender_count, on = 'gender', how = 'left')\n",
    "merge['i'] = round((merge['id_student_y']/merge['id_student_x']), 2)\n",
    "merge = merge[['gender','final_result', 'i']]\n",
    "\n",
    "female = merge.loc[merge['gender'] == 'F']\n",
    "male = merge.loc[merge['gender'] == 'M']\n",
    "\n",
    "fig = plt.figure() \n",
    "\n",
    "ax = fig.add_subplot(111) \n",
    "\n",
    "female.set_index('final_result',drop=True,inplace=True)\n",
    "male.set_index('final_result',drop=True,inplace=True)\n",
    "female.plot(kind='bar', ax=ax, width= 0.3, position=1)\n",
    "male.plot(kind='bar', color='#2ca02c', ax=ax, width= 0.3, position=0)\n",
    "\n",
    "plt.xlabel('Result Status')\n",
    "plt.ylabel('Result')\n",
    "plt.title('Gender vs Result')\n",
    "plt.legend(['Female', 'Male'])\n",
    "plt.show()"
   ]
  },
  {
   "cell_type": "code",
   "execution_count": 10,
   "metadata": {},
   "outputs": [
    {
     "data": {
      "image/png": "[encoded data removed]",
      "text/plain": [
       "<Figure size 432x288 with 1 Axes>"
      ]
     },
     "metadata": {
      "needs_background": "light"
     },
     "output_type": "display_data"
    }
   ],
   "source": [
    "#Results based on Diasability\n",
    "\n",
    "disability_ = studentInfo.groupby(['disability'],as_index = False)\n",
    "disability_count = disability_['id_student'].count()\n",
    "result_disability = studentInfo.groupby(['disability', 'final_result'],as_index = False)\n",
    "result_disability_count = result_disability['id_student'].count()\n",
    "\n",
    "merge = pd.merge(disability_count, result_disability_count, on = 'disability', how = 'left')\n",
    "merge['i'] = round((merge['id_student_y']/merge['id_student_x']), 2)\n",
    "merge = merge[['disability','final_result', 'i']]\n",
    "\n",
    "yes = merge.loc[merge['disability'] == 'Y']\n",
    "no = merge.loc[merge['disability'] == 'N']\n",
    "\n",
    "fig = plt.figure() \n",
    "\n",
    "ax = fig.add_subplot(111) \n",
    "\n",
    "yes.set_index('final_result',drop=True,inplace=True)\n",
    "no.set_index('final_result',drop=True,inplace=True)\n",
    "yes.plot(kind='bar', ax=ax, width= 0.3, position=1)\n",
    "no.plot(kind='bar', color='#2ca02c', ax=ax, width= 0.3, position=0)\n",
    "\n",
    "plt.xlabel('Result Status')\n",
    "plt.ylabel('Result')\n",
    "plt.title('Disability vs Result')\n",
    "plt.legend(['Yes', 'No'])\n",
    "plt.show()"
   ]
  },
  {
   "cell_type": "code",
   "execution_count": 11,
   "metadata": {},
   "outputs": [
    {
     "data": {
      "image/png": "[encoded data removed]",
      "text/plain": [
       "<Figure size 432x288 with 1 Axes>"
      ]
     },
     "metadata": {
      "needs_background": "light"
     },
     "output_type": "display_data"
    }
   ],
   "source": [
    "#Results based on Age\n",
    "\n",
    "age = studentInfo.groupby(['age_band'],as_index = False)\n",
    "age_count = age['id_student'].count()\n",
    "result_age = studentInfo.groupby(['age_band', 'final_result'],as_index = False)\n",
    "result_age_count = result_age['id_student'].count()\n",
    "\n",
    "merge = pd.merge(age_count, result_age_count, on = 'age_band', how = 'left')\n",
    "merge['_'] = round((merge['id_student_y']/merge['id_student_x']), 2)\n",
    "merge = merge[['age_band','final_result', '_']]\n",
    "\n",
    "merge.set_index(['age_band','final_result']).unstack().plot(kind = 'barh', stacked = True)\n",
    "\n",
    "box = ax.get_position()\n",
    "ax.set_position([box.x0, box.y0, box.width * 0.8, box.height])\n",
    "\n",
    "plt.ylabel('Age')\n",
    "plt.xlabel('Result')\n",
    "plt.title('Age vs Result')\n",
    "plt.legend(['Distinction','Fail', 'Pass', 'Withdrawn'], loc='center left', bbox_to_anchor=(1, 0.85))\n",
    "plt.show()"
   ]
  },
  {
   "cell_type": "code",
   "execution_count": 12,
   "metadata": {},
   "outputs": [
    {
     "data": {
      "image/png": "[encoded data removed]",
      "text/plain": [
       "<Figure size 432x288 with 1 Axes>"
      ]
     },
     "metadata": {
      "needs_background": "light"
     },
     "output_type": "display_data"
    }
   ],
   "source": [
    "\n",
    "\n",
    "#Results based on IMD Band\n",
    "\n",
    "import pandas as pd\n",
    "\n",
    "imd = studentInfo.groupby(['imd_band'],as_index = False)\n",
    "imd_count = imd['id_student'].count()\n",
    "result_imd = studentInfo.groupby(['imd_band', 'final_result'],as_index = False)\n",
    "result_imd_count = result_imd['id_student'].count()\n",
    "\n",
    "merge = pd.merge(imd_count, result_imd_count , on = 'imd_band', how = 'left')\n",
    "merge['_'] = round((merge['id_student_y']/merge['id_student_x']), 2)\n",
    "merge = merge[['imd_band','final_result', '_']]\n",
    "\n",
    "merge.set_index(['imd_band','final_result']).unstack().plot(kind=\"barh\", stacked = True)\n",
    "\n",
    "box = ax.get_position()\n",
    "ax.set_position([box.x0, box.y0, box.width * 0.8, box.height])\n",
    "\n",
    "plt.ylabel('IMD Band')\n",
    "plt.xlabel('Result')\n",
    "plt.title('IMD Band vs Result')\n",
    "plt.legend(['Distinction','Fail', 'Pass', 'Withdrawn'], loc='center left', bbox_to_anchor=(1, 0.85))\n",
    "plt.show()"
   ]
  },
  {
   "cell_type": "code",
   "execution_count": 13,
   "metadata": {},
   "outputs": [
    {
     "data": {
      "image/png": "[encoded data removed]",
      "text/plain": [
       "<Figure size 432x288 with 1 Axes>"
      ]
     },
     "metadata": {
      "needs_background": "light"
     },
     "output_type": "display_data"
    }
   ],
   "source": [
    "#Results based on Highest Education\n",
    "\n",
    "education = studentInfo.groupby(['highest_education'],as_index = False)\n",
    "education_count = education['id_student'].count()\n",
    "result_education = studentInfo.groupby(['highest_education', 'final_result'],as_index = False)\n",
    "result_education_count = result_education['id_student'].count()\n",
    "\n",
    "merge = pd.merge(education_count, result_education_count , on = 'highest_education', how = 'left')\n",
    "merge['_'] = round((merge['id_student_y']/merge['id_student_x']), 2)\n",
    "merge = merge[['highest_education','final_result', '_']]\n",
    "\n",
    "merge.set_index(['highest_education','final_result']).unstack().plot(kind = 'barh', stacked = True)\n",
    "\n",
    "box = ax.get_position()\n",
    "ax.set_position([box.x0, box.y0, box.width * 0.8, box.height])\n",
    "\n",
    "plt.ylabel('Highest Education')\n",
    "plt.xlabel('Result')\n",
    "plt.title('Highest Education vs Result')\n",
    "plt.legend(['Distinction','Fail', 'Pass', 'Withdrawn'], loc='center left', bbox_to_anchor=(1, 0.85))\n",
    "plt.show()"
   ]
  },
  {
   "cell_type": "code",
   "execution_count": 14,
   "metadata": {},
   "outputs": [
    {
     "data": {
      "image/png": "[encoded data removed]",
      "text/plain": [
       "<Figure size 432x288 with 1 Axes>"
      ]
     },
     "metadata": {
      "needs_background": "light"
     },
     "output_type": "display_data"
    }
   ],
   "source": [
    "#Results based on Region\n",
    "\n",
    "import pandas as pd\n",
    "\n",
    "region = studentInfo.groupby(['region'],as_index = False)\n",
    "region_count = region['id_student'].count()\n",
    "result_region = studentInfo.groupby(['region', 'final_result'],as_index = False)\n",
    "result_region_count = result_region['id_student'].count()\n",
    "\n",
    "merge = pd.merge(region_count, result_region_count , on = 'region', how = 'left')\n",
    "merge['_'] = round((merge['id_student_y']/merge['id_student_x']), 2)\n",
    "merge = merge[['region','final_result', '_']]\n",
    "\n",
    "merge.set_index(['region','final_result']).unstack().plot(kind=\"barh\", stacked=True)\n",
    "\n",
    "box = ax.get_position()\n",
    "ax.set_position([box.x0, box.y0, box.width * 0.8, box.height])\n",
    "\n",
    "plt.ylabel('Region')\n",
    "plt.xlabel('Result')\n",
    "plt.title('Region vs Result')\n",
    "plt.legend(['Distinction','Fail', 'Pass', 'Withdrawn'], loc='center left', bbox_to_anchor=(1, 0.85))\n",
    "plt.show()"
   ]
  },
  {
   "cell_type": "code",
   "execution_count": 15,
   "metadata": {},
   "outputs": [
    {
     "data": {
      "text/plain": [
       "Withdrawn      32158\n",
       "Pass            8643\n",
       "Fail            4406\n",
       "Distinction     1203\n",
       "Name: final_result, dtype: int64"
      ]
     },
     "execution_count": 15,
     "metadata": {},
     "output_type": "execute_result"
    }
   ],
   "source": [
    "# Predictive Models\n",
    "dfs = [studentAssessment, studentInfo, studentRegistration]\n",
    "df_final = reduce(lambda left,right: pd.merge(left,right,on='id_student'), dfs)\n",
    "df_final['final_result'].value_counts()"
   ]
  },
  {
   "cell_type": "code",
   "execution_count": 16,
   "metadata": {},
   "outputs": [],
   "source": [
    "df_final = df_final.drop(['date_unregistration'],axis =1) # too many NaN values"
   ]
  },
  {
   "cell_type": "code",
   "execution_count": 17,
   "metadata": {},
   "outputs": [
    {
     "data": {
      "text/plain": [
       "Withdrawn      32158\n",
       "Pass            8643\n",
       "Fail            4406\n",
       "Distinction     1203\n",
       "Name: final_result, dtype: int64"
      ]
     },
     "execution_count": 17,
     "metadata": {},
     "output_type": "execute_result"
    }
   ],
   "source": [
    "df_final.dropna(inplace=True)\n",
    "df_final['final_result'].value_counts()"
   ]
  },
  {
   "cell_type": "code",
   "execution_count": 18,
   "metadata": {},
   "outputs": [
    {
     "data": {
      "text/html": [
       "<div>\n",
       "<style scoped>\n",
       "    .dataframe tbody tr th:only-of-type {\n",
       "        vertical-align: middle;\n",
       "    }\n",
       "\n",
       "    .dataframe tbody tr th {\n",
       "        vertical-align: top;\n",
       "    }\n",
       "\n",
       "    .dataframe thead th {\n",
       "        text-align: right;\n",
       "    }\n",
       "</style>\n",
       "<table border=\"1\" class=\"dataframe\">\n",
       "  <thead>\n",
       "    <tr style=\"text-align: right;\">\n",
       "      <th></th>\n",
       "      <th>id_assessment</th>\n",
       "      <th>id_student</th>\n",
       "      <th>date_submitted</th>\n",
       "      <th>is_banked</th>\n",
       "      <th>score</th>\n",
       "      <th>code_module_x</th>\n",
       "      <th>code_presentation_x</th>\n",
       "      <th>gender</th>\n",
       "      <th>region</th>\n",
       "      <th>highest_education</th>\n",
       "      <th>imd_band</th>\n",
       "      <th>age_band</th>\n",
       "      <th>num_of_prev_attempts</th>\n",
       "      <th>studied_credits</th>\n",
       "      <th>disability</th>\n",
       "      <th>final_result</th>\n",
       "      <th>code_module_y</th>\n",
       "      <th>code_presentation_y</th>\n",
       "      <th>date_registration</th>\n",
       "    </tr>\n",
       "  </thead>\n",
       "  <tbody>\n",
       "    <tr>\n",
       "      <th>0</th>\n",
       "      <td>1752</td>\n",
       "      <td>65002</td>\n",
       "      <td>17</td>\n",
       "      <td>0</td>\n",
       "      <td>66.0</td>\n",
       "      <td>AAA</td>\n",
       "      <td>2013J</td>\n",
       "      <td>F</td>\n",
       "      <td>East Anglian Region</td>\n",
       "      <td>A Level or Equivalent</td>\n",
       "      <td>70-80%</td>\n",
       "      <td>0-35</td>\n",
       "      <td>0</td>\n",
       "      <td>60</td>\n",
       "      <td>N</td>\n",
       "      <td>Withdrawn</td>\n",
       "      <td>AAA</td>\n",
       "      <td>2013J</td>\n",
       "      <td>-180.0</td>\n",
       "    </tr>\n",
       "    <tr>\n",
       "      <th>1</th>\n",
       "      <td>1752</td>\n",
       "      <td>65002</td>\n",
       "      <td>17</td>\n",
       "      <td>0</td>\n",
       "      <td>66.0</td>\n",
       "      <td>AAA</td>\n",
       "      <td>2014J</td>\n",
       "      <td>F</td>\n",
       "      <td>East Anglian Region</td>\n",
       "      <td>A Level or Equivalent</td>\n",
       "      <td>70-80%</td>\n",
       "      <td>0-35</td>\n",
       "      <td>1</td>\n",
       "      <td>60</td>\n",
       "      <td>N</td>\n",
       "      <td>Fail</td>\n",
       "      <td>AAA</td>\n",
       "      <td>2013J</td>\n",
       "      <td>-180.0</td>\n",
       "    </tr>\n",
       "    <tr>\n",
       "      <th>2</th>\n",
       "      <td>1753</td>\n",
       "      <td>65002</td>\n",
       "      <td>51</td>\n",
       "      <td>0</td>\n",
       "      <td>68.0</td>\n",
       "      <td>AAA</td>\n",
       "      <td>2013J</td>\n",
       "      <td>F</td>\n",
       "      <td>East Anglian Region</td>\n",
       "      <td>A Level or Equivalent</td>\n",
       "      <td>70-80%</td>\n",
       "      <td>0-35</td>\n",
       "      <td>0</td>\n",
       "      <td>60</td>\n",
       "      <td>N</td>\n",
       "      <td>Withdrawn</td>\n",
       "      <td>AAA</td>\n",
       "      <td>2013J</td>\n",
       "      <td>-180.0</td>\n",
       "    </tr>\n",
       "    <tr>\n",
       "      <th>3</th>\n",
       "      <td>1753</td>\n",
       "      <td>65002</td>\n",
       "      <td>51</td>\n",
       "      <td>0</td>\n",
       "      <td>68.0</td>\n",
       "      <td>AAA</td>\n",
       "      <td>2014J</td>\n",
       "      <td>F</td>\n",
       "      <td>East Anglian Region</td>\n",
       "      <td>A Level or Equivalent</td>\n",
       "      <td>70-80%</td>\n",
       "      <td>0-35</td>\n",
       "      <td>1</td>\n",
       "      <td>60</td>\n",
       "      <td>N</td>\n",
       "      <td>Fail</td>\n",
       "      <td>AAA</td>\n",
       "      <td>2013J</td>\n",
       "      <td>-180.0</td>\n",
       "    </tr>\n",
       "    <tr>\n",
       "      <th>4</th>\n",
       "      <td>1758</td>\n",
       "      <td>65002</td>\n",
       "      <td>-1</td>\n",
       "      <td>1</td>\n",
       "      <td>66.0</td>\n",
       "      <td>AAA</td>\n",
       "      <td>2013J</td>\n",
       "      <td>F</td>\n",
       "      <td>East Anglian Region</td>\n",
       "      <td>A Level or Equivalent</td>\n",
       "      <td>70-80%</td>\n",
       "      <td>0-35</td>\n",
       "      <td>0</td>\n",
       "      <td>60</td>\n",
       "      <td>N</td>\n",
       "      <td>Withdrawn</td>\n",
       "      <td>AAA</td>\n",
       "      <td>2013J</td>\n",
       "      <td>-180.0</td>\n",
       "    </tr>\n",
       "  </tbody>\n",
       "</table>\n",
       "</div>"
      ],
      "text/plain": [
       "   id_assessment  id_student  date_submitted  is_banked  score code_module_x  \\\n",
       "0           1752       65002              17          0   66.0           AAA   \n",
       "1           1752       65002              17          0   66.0           AAA   \n",
       "2           1753       65002              51          0   68.0           AAA   \n",
       "3           1753       65002              51          0   68.0           AAA   \n",
       "4           1758       65002              -1          1   66.0           AAA   \n",
       "\n",
       "  code_presentation_x gender               region      highest_education  \\\n",
       "0               2013J      F  East Anglian Region  A Level or Equivalent   \n",
       "1               2014J      F  East Anglian Region  A Level or Equivalent   \n",
       "2               2013J      F  East Anglian Region  A Level or Equivalent   \n",
       "3               2014J      F  East Anglian Region  A Level or Equivalent   \n",
       "4               2013J      F  East Anglian Region  A Level or Equivalent   \n",
       "\n",
       "  imd_band age_band  num_of_prev_attempts  studied_credits disability  \\\n",
       "0   70-80%     0-35                     0               60          N   \n",
       "1   70-80%     0-35                     1               60          N   \n",
       "2   70-80%     0-35                     0               60          N   \n",
       "3   70-80%     0-35                     1               60          N   \n",
       "4   70-80%     0-35                     0               60          N   \n",
       "\n",
       "  final_result code_module_y code_presentation_y  date_registration  \n",
       "0    Withdrawn           AAA               2013J             -180.0  \n",
       "1         Fail           AAA               2013J             -180.0  \n",
       "2    Withdrawn           AAA               2013J             -180.0  \n",
       "3         Fail           AAA               2013J             -180.0  \n",
       "4    Withdrawn           AAA               2013J             -180.0  "
      ]
     },
     "execution_count": 18,
     "metadata": {},
     "output_type": "execute_result"
    }
   ],
   "source": [
    "df_final.head()"
   ]
  },
  {
   "cell_type": "code",
   "execution_count": 19,
   "metadata": {},
   "outputs": [],
   "source": [
    "# Converting the final table to catgorical data\n",
    "from sklearn import preprocessing\n",
    "le = preprocessing.LabelEncoder()\n",
    "df_final = df_final.apply(le.fit_transform)"
   ]
  },
  {
   "cell_type": "code",
   "execution_count": 20,
   "metadata": {},
   "outputs": [
    {
     "name": "stdout",
     "output_type": "stream",
     "text": [
      "Accuracy:0.956 \n",
      "\n"
     ]
    }
   ],
   "source": [
    "# Decision Tree\n",
    "from sklearn.model_selection import train_test_split\n",
    "from sklearn import tree\n",
    "from sklearn import metrics\n",
    "\n",
    "X = df_final.loc[:, df_final.columns != 'final_result']\n",
    "y = df_final['final_result']\n",
    "xTrain, xTest, yTrain, yTest = train_test_split(X, y,train_size = 0.75)\n",
    "\n",
    "dt = tree.DecisionTreeClassifier(criterion='gini')\n",
    "dt = dt.fit(xTrain, yTrain)\n",
    "train_pred = dt.predict(xTrain)\n",
    "test_pred = dt.predict(xTest)\n",
    "print(\"Accuracy:{0:.3f}\".format(metrics.accuracy_score(yTest, test_pred)),\"\\n\")"
   ]
  },
  {
   "cell_type": "code",
   "execution_count": 21,
   "metadata": {},
   "outputs": [
    {
     "name": "stdout",
     "output_type": "stream",
     "text": [
      "Accuracy:0.895\n"
     ]
    }
   ],
   "source": [
    "# Gradient Boosting Regression\n",
    "from sklearn.ensemble import GradientBoostingRegressor\n",
    "\n",
    "X = df_final.loc[:, df_final.columns != 'final_result']\n",
    "y = df_final['final_result']\n",
    "xTrain, xTest, yTrain, yTest = train_test_split(X, y,train_size = 0.75)\n",
    "\n",
    "gb = GradientBoostingRegressor(n_estimators=100, learning_rate=0.1, max_depth=10, random_state=0, loss='huber')\n",
    "gb = gb.fit(xTrain, yTrain)\n",
    "print(\"Accuracy:{0:.3f}\".format(gb.score(xTest, yTest)))"
   ]
  },
  {
   "cell_type": "code",
   "execution_count": 22,
   "metadata": {},
   "outputs": [
    {
     "name": "stdout",
     "output_type": "stream",
     "text": [
      "Accuracy:0.973 \n",
      "\n"
     ]
    }
   ],
   "source": [
    "# Random Forest\n",
    "from sklearn.model_selection import train_test_split\n",
    "from sklearn.ensemble import RandomForestClassifier\n",
    "from sklearn import metrics\n",
    "\n",
    "X = df_final.loc[:, df_final.columns != 'final_result']\n",
    "y = df_final['final_result']\n",
    "xTrain, xTest, yTrain, yTest = train_test_split(X, y,train_size = 0.75)\n",
    "\n",
    "rf = RandomForestClassifier(n_estimators=10,random_state=33)\n",
    "rf = rf.fit(xTrain, yTrain)\n",
    "train_pred = rf.predict(xTrain)\n",
    "test_pred = rf.predict(xTest)\n",
    "print(\"Accuracy:{0:.3f}\".format(metrics.accuracy_score(yTest, test_pred)),\"\\n\")"
   ]
  },
  {
   "cell_type": "code",
   "execution_count": 23,
   "metadata": {},
   "outputs": [],
   "source": [
    "# Model Accuracy\n",
    "\n",
    "# Function to plot accuracy\n",
    "\n",
    "from sklearn.model_selection import learning_curve\n",
    "import numpy as np\n",
    "\n",
    "def plot_accuracy(model):\n",
    "\n",
    "    train_sizes, train_scores, test_scores = learning_curve(model, xTrain, yTrain, n_jobs=-1, train_sizes=np.linspace(.1, 1.0, 5), verbose=0)\n",
    "\n",
    "    train_mean = np.mean(train_scores, axis=1)\n",
    "    train_std = np.std(train_scores, axis=1)\n",
    "    test_mean = np.mean(test_scores, axis=1)\n",
    "    test_std = np.std(test_scores, axis=1)\n",
    "    \n",
    "    plt.figure()\n",
    "    plt.gca().invert_yaxis()\n",
    "    plt.grid()\n",
    "    plt.ylim(0.0, 1.1)\n",
    "    plt.title(\"Accuracy Plot\")\n",
    "    plt.xlabel(\"Testing\")\n",
    "    plt.ylabel(\"Accuracy %\")\n",
    "\n",
    "    plt.fill_between(train_sizes, test_mean - test_std, test_mean + test_std, alpha=0.1)\n",
    "        \n",
    "    plt.plot(train_sizes, test_mean, 'bo-', color = \"r\", label=\"Test Score\")"
   ]
  },
  {
   "cell_type": "code",
   "execution_count": 24,
   "metadata": {
    "scrolled": false
   },
   "outputs": [
    {
     "data": {
      "image/png": "[encoded data removed]",
      "text/plain": [
       "<Figure size 432x288 with 1 Axes>"
      ]
     },
     "metadata": {
      "needs_background": "light"
     },
     "output_type": "display_data"
    }
   ],
   "source": [
    "#Decision Tree\n",
    "plot_accuracy(dt)"
   ]
  },
  {
   "cell_type": "code",
   "execution_count": 25,
   "metadata": {},
   "outputs": [
    {
     "data": {
      "image/png": "[encoded data removed]",
      "text/plain": [
       "<Figure size 432x288 with 1 Axes>"
      ]
     },
     "metadata": {
      "needs_background": "light"
     },
     "output_type": "display_data"
    }
   ],
   "source": [
    "#Gradient Boosting\n",
    "plot_accuracy(gb)"
   ]
  },
  {
   "cell_type": "code",
   "execution_count": 26,
   "metadata": {},
   "outputs": [
    {
     "data": {
      "image/png": "[encoded data removed]",
      "text/plain": [
       "<Figure size 432x288 with 1 Axes>"
      ]
     },
     "metadata": {
      "needs_background": "light"
     },
     "output_type": "display_data"
    }
   ],
   "source": [
    "#Random Forest\n",
    "plot_accuracy(rf)"
   ]
  },
  {
   "cell_type": "code",
   "execution_count": 34,
   "metadata": {
    "scrolled": false
   },
   "outputs": [
    {
     "name": "stdout",
     "output_type": "stream",
     "text": [
      "Normalized Confusion Matrix\n",
      "[[0.53650794 0.06984127 0.27301587 0.12063492]\n",
      " [0.02677029 0.582038   0.2029361  0.18825561]\n",
      " [0.03657999 0.09167034 0.73953283 0.13221684]\n",
      " [0.00318026 0.02467879 0.02976721 0.94237374]]\n"
     ]
    },
    {
     "data": {
      "image/png": "[encoded data removed]",
      "text/plain": [
       "<Figure size 432x288 with 2 Axes>"
      ]
     },
     "metadata": {
      "needs_background": "light"
     },
     "output_type": "display_data"
    }
   ],
   "source": [
    "#Decision Tree\n",
    "from sklearn.metrics import plot_confusion_matrix\n",
    "from sklearn.model_selection import cross_val_predict\n",
    "\n",
    "y_pred = cross_val_predict(dt, xTest, yTest)\n",
    "\n",
    "disp = plot_confusion_matrix(dt, xTest, y_pred,\n",
    "                             cmap=plt.cm.Blues,\n",
    "                             normalize='true')\n",
    "disp.ax_.set_title('Normalized Confusion Matrix (Decision Tree)')\n",
    "\n",
    "print('Normalized Confusion Matrix')\n",
    "print(disp.confusion_matrix)"
   ]
  },
  {
   "cell_type": "code",
   "execution_count": 36,
   "metadata": {},
   "outputs": [
    {
     "name": "stdout",
     "output_type": "stream",
     "text": [
      "Normalized Confusion Matrix (Random Forest)\n",
      "[[0.77339901 0.01970443 0.15763547 0.04926108]\n",
      " [0.01079914 0.74298056 0.13714903 0.10907127]\n",
      " [0.03010033 0.06605351 0.82399666 0.0798495 ]\n",
      " [0.00309329 0.02474635 0.02697352 0.94518683]]\n"
     ]
    },
    {
     "data": {
      "image/png": "[encoded data removed]",
      "text/plain": [
       "<Figure size 432x288 with 2 Axes>"
      ]
     },
     "metadata": {
      "needs_background": "light"
     },
     "output_type": "display_data"
    }
   ],
   "source": [
    "#Random Forest\n",
    "from sklearn.metrics import plot_confusion_matrix\n",
    "from sklearn.model_selection import cross_val_predict\n",
    "\n",
    "y_pred = cross_val_predict(rf, xTest, yTest)\n",
    "\n",
    "disp = plot_confusion_matrix(rf, xTest, y_pred,\n",
    "                             cmap=plt.cm.Blues,\n",
    "                             normalize='true')\n",
    "disp.ax_.set_title('Normalized Confusion Matrix')\n",
    "\n",
    "print('Normalized Confusion Matrix (Random Forest)')\n",
    "print(disp.confusion_matrix)"
   ]
  },
  {
   "cell_type": "code",
   "execution_count": null,
   "metadata": {},
   "outputs": [],
   "source": []
  }
 ],
 "metadata": {
  "kernelspec": {
   "display_name": "Python 3",
   "language": "python",
   "name": "python3"
  },
  "language_info": {
   "codemirror_mode": {
    "name": "ipython",
    "version": 3
   },
   "file_extension": ".py",
   "mimetype": "text/x-python",
   "name": "python",
   "nbconvert_exporter": "python",
   "pygments_lexer": "ipython3",
   "version": "3.6.9"
  }
 },
 "nbformat": 4,
 "nbformat_minor": 2
}
